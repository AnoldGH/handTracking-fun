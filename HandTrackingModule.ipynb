{
 "cells": [
  {
   "cell_type": "code",
   "execution_count": 1,
   "metadata": {},
   "outputs": [],
   "source": [
    "import cv2\n",
    "import mediapipe as mp\n",
    "import time"
   ]
  },
  {
   "cell_type": "code",
   "execution_count": 19,
   "metadata": {},
   "outputs": [],
   "source": [
    "class handDetector():\n",
    "    def __init__(self, running_mode=False, num_hands=2, model_complexity=1, min_hand_detection_confidence=0.5, min_hand_presence_confidence=0.5, min_tracking_confidence=0.5, result_callback=None) -> None:\n",
    "        \n",
    "        self.running_mode = running_mode\n",
    "        self.num_hands = num_hands\n",
    "        self.model_complexity = model_complexity\n",
    "        self.min_hand_detection_confidence = min_hand_detection_confidence\n",
    "        self.min_hand_presence_confidence = min_hand_presence_confidence\n",
    "        self.min_tracking_confidence = min_tracking_confidence\n",
    "        self.result_callback = result_callback\n",
    "        \n",
    "        self.mpHands = mp.solutions.hands\n",
    "        self.hands = self.mpHands.Hands(running_mode, num_hands, model_complexity, min_hand_detection_confidence, min_tracking_confidence)\n",
    "        \n",
    "        self.mpDraw = mp.solutions.drawing_utils\n",
    "        \n",
    "    def findHands(self, img, draw=True):\n",
    "        imgRGB = cv2.cvtColor(img, cv2.COLOR_BGR2RGB)\n",
    "        results = self.hands.process(imgRGB)\n",
    "        \n",
    "        if results.multi_hand_landmarks:\n",
    "            for handLandmark in results.multi_hand_landmarks:\n",
    "                if draw:\n",
    "                    self.mpDraw.draw_landmarks(img, handLandmark, self.mpHands.HAND_CONNECTIONS)\n",
    "                    \n",
    "        return img\n",
    "        "
   ]
  },
  {
   "cell_type": "code",
   "execution_count": 30,
   "metadata": {},
   "outputs": [],
   "source": [
    "def main():\n",
    "    pTime = 0\n",
    "    cTime = 0\n",
    "    capture = cv2.VideoCapture(0)\n",
    "    detector = handDetector()\n",
    "    \n",
    "    while True:\n",
    "        success, img = capture.read()\n",
    "        if success:\n",
    "            img = detector.findHands(img)\n",
    "            \n",
    "            cTime = time.time()\n",
    "            fps = 1 / (cTime - pTime)\n",
    "            pTime = cTime\n",
    "            \n",
    "            cv2.putText(img, str(int(fps)), (10, 70), cv2.FONT_HERSHEY_PLAIN, 3, (255, 0, 255), 3)\n",
    "            \n",
    "            cv2.imshow(\"Image\", img)\n",
    "            cv2.waitKey(1)"
   ]
  },
  {
   "cell_type": "code",
   "execution_count": 31,
   "metadata": {},
   "outputs": [
    {
     "ename": "KeyboardInterrupt",
     "evalue": "",
     "output_type": "error",
     "traceback": [
      "\u001b[1;31m---------------------------------------------------------------------------\u001b[0m",
      "\u001b[1;31mKeyboardInterrupt\u001b[0m                         Traceback (most recent call last)",
      "Cell \u001b[1;32mIn[31], line 2\u001b[0m\n\u001b[0;32m      1\u001b[0m \u001b[39mif\u001b[39;00m \u001b[39m__name__\u001b[39m \u001b[39m==\u001b[39m \u001b[39m'\u001b[39m\u001b[39m__main__\u001b[39m\u001b[39m'\u001b[39m:\n\u001b[1;32m----> 2\u001b[0m     main()\n",
      "Cell \u001b[1;32mIn[30], line 8\u001b[0m, in \u001b[0;36mmain\u001b[1;34m()\u001b[0m\n\u001b[0;32m      5\u001b[0m detector \u001b[39m=\u001b[39m handDetector()\n\u001b[0;32m      7\u001b[0m \u001b[39mwhile\u001b[39;00m \u001b[39mTrue\u001b[39;00m:\n\u001b[1;32m----> 8\u001b[0m     success, img \u001b[39m=\u001b[39m capture\u001b[39m.\u001b[39;49mread()\n\u001b[0;32m      9\u001b[0m     \u001b[39mif\u001b[39;00m success:\n\u001b[0;32m     10\u001b[0m         img \u001b[39m=\u001b[39m detector\u001b[39m.\u001b[39mfindHands(img)\n",
      "\u001b[1;31mKeyboardInterrupt\u001b[0m: "
     ]
    }
   ],
   "source": [
    "if __name__ == '__main__':\n",
    "    main()"
   ]
  }
 ],
 "metadata": {
  "kernelspec": {
   "display_name": "Python 3",
   "language": "python",
   "name": "python3"
  },
  "language_info": {
   "codemirror_mode": {
    "name": "ipython",
    "version": 3
   },
   "file_extension": ".py",
   "mimetype": "text/x-python",
   "name": "python",
   "nbconvert_exporter": "python",
   "pygments_lexer": "ipython3",
   "version": "3.10.0"
  },
  "orig_nbformat": 4
 },
 "nbformat": 4,
 "nbformat_minor": 2
}
